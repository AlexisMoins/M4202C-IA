{
 "cells": [
  {
   "cell_type": "code",
   "execution_count": null,
   "id": "550971b6",
   "metadata": {},
   "outputs": [],
   "source": [
    "import pandas as pd\n",
    "import numpy as np\n",
    "import matplotlib.pyplot as plt\n",
    "import seaborn as sns # Surcouche à matplotlib\n",
    "\n",
    "# Type aliases\n",
    "Series = pd.core.series.Series\n",
    "\n",
    "# Retreiving the data\n",
    "data = pd.read_csv('diabetes.csv')\n",
    "rows, columns = data.shape\n",
    "\n",
    "print(f'Rows: {rows}, columns: {columns}')\n",
    "print(f'\\nLabels: \\n{list(data.columns)}')"
   ]
  },
  {
   "cell_type": "code",
   "execution_count": null,
   "id": "f4fd3836",
   "metadata": {},
   "outputs": [],
   "source": [
    "print('\\n-- Pregnancies --')\n",
    "\n",
    "# Retreiving the series\n",
    "pregnancies: Series = data['Pregnancies'] # Ou data.Pregnancies\n",
    "    \n",
    "# Moyenne\n",
    "print(f'Mean: {pregnancies.mean()}') # Ou bien np.mean(pregnancies)\n",
    "\n",
    "# Écart-type\n",
    "print(f'Standard deviation: {pregnancies.std()}')"
   ]
  },
  {
   "cell_type": "code",
   "execution_count": null,
   "id": "7cd8409b",
   "metadata": {},
   "outputs": [],
   "source": [
    "# Show the histogram of the age column\n",
    "data.Age.hist() # Ou data['Age'].hist()"
   ]
  },
  {
   "cell_type": "code",
   "execution_count": null,
   "id": "5ba00d3d",
   "metadata": {},
   "outputs": [],
   "source": [
    "# Séléctionne chaque personne dont l'age est inférieur à 40\n",
    "filtre = data.Age < 40\n",
    "\n",
    "# Filtre est une Series booléenne que l'on peut utiliser en indice\n",
    "data[filtre]"
   ]
  },
  {
   "cell_type": "code",
   "execution_count": null,
   "id": "20fbba5e",
   "metadata": {},
   "outputs": [],
   "source": [
    "# Crée un nuage de points avec en x les données Age et en y les données Pregnancies\n",
    "data[filtre].plot(x='Age', y='Pregnancies', kind='scatter') # kind=scatter défini un nuage de points (ScatterPlot)"
   ]
  },
  {
   "cell_type": "code",
   "execution_count": null,
   "id": "2e721454",
   "metadata": {},
   "outputs": [],
   "source": [
    "# Affiche rouge ou bleu en fonction de l'outcome\n",
    "data[filtre].plot.scatter(x='Age', y='Pregnancies', c='Outcome', colormap='coolwarm')\n",
    "\n",
    "# plot.scatter pour ne pas passer par spécifier d'option kind='scatter'"
   ]
  },
  {
   "cell_type": "code",
   "execution_count": null,
   "id": "923dc3bf",
   "metadata": {},
   "outputs": [],
   "source": [
    "# Compare chaque colonne 2 à 2\n",
    "sns.pairplot(data, hue='Outcome')\n",
    "\n",
    "# Affiche le plot\n",
    "plt.show()"
   ]
  },
  {
   "cell_type": "code",
   "execution_count": null,
   "id": "f048a03b",
   "metadata": {},
   "outputs": [],
   "source": [
    "# Personnes dont le glucose est inférieur à 150 (sous la forme d'une Series de True et False)\n",
    "filtre_glucose = data.Glucose < 150\n",
    "\n",
    "# apply() permet d'appliquer une fonction à toute une série\n",
    "# Ici, on associe chaque valeur True à 0 et chaque valeur False à 1\n",
    "prediction = filtre_glucose.apply(lambda v: {True: 0, False: 1}[v]) \n",
    "\n",
    "# Vérité de terrain (résultats observés)\n",
    "groundtruth = data.Outcome\n",
    "\n",
    "# Compare les valeur de la prédiction et de la vérité de terrain 1 à 1 et range le résultat dans un tableau\n",
    "# Ensuite, numpy calculera la moyenne des valeurs du tableau\n",
    "np.mean(prediction == ground_truth) * 100\n",
    "\n",
    "# On obtient un pourcentage de véracité"
   ]
  },
  {
   "cell_type": "markdown",
   "id": "6e1b2d0e",
   "metadata": {},
   "source": [
    "Classifieur:\n",
    "\n",
    "En général, on coupera un jeu de données en deux:\n",
    "- 80% pour l'apprentissage\n",
    "- 20% pour le test\n",
    "\n"
   ]
  },
  {
   "cell_type": "code",
   "execution_count": null,
   "id": "99130fe3",
   "metadata": {},
   "outputs": [],
   "source": []
  }
 ],
 "metadata": {
  "kernelspec": {
   "display_name": "Python 3 (ipykernel)",
   "language": "python",
   "name": "python3"
  },
  "language_info": {
   "codemirror_mode": {
    "name": "ipython",
    "version": 3
   },
   "file_extension": ".py",
   "mimetype": "text/x-python",
   "name": "python",
   "nbconvert_exporter": "python",
   "pygments_lexer": "ipython3",
   "version": "3.10.2"
  }
 },
 "nbformat": 4,
 "nbformat_minor": 5
}
